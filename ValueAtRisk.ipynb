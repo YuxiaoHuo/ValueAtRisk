{
  "nbformat": 4,
  "nbformat_minor": 0,
  "metadata": {
    "colab": {
      "name": "ValueAtRisk.ipynb",
      "provenance": [],
      "collapsed_sections": []
    },
    "kernelspec": {
      "name": "python3",
      "display_name": "Python 3"
    }
  },
  "cells": [
    {
      "cell_type": "code",
      "metadata": {
        "id": "_n7zeXB1fQdV",
        "colab_type": "code",
        "colab": {
          "base_uri": "https://localhost:8080/",
          "height": 34
        },
        "outputId": "b580e8fb-6876-4870-9e3b-5c241f3b355c"
      },
      "source": [
        "pip install yahoo_fin"
      ],
      "execution_count": 48,
      "outputs": [
        {
          "output_type": "stream",
          "text": [
            "Requirement already satisfied: yahoo_fin in /usr/local/lib/python3.6/dist-packages (0.8.5)\n"
          ],
          "name": "stdout"
        }
      ]
    },
    {
      "cell_type": "code",
      "metadata": {
        "id": "SL4fWzKEf08P",
        "colab_type": "code",
        "colab": {}
      },
      "source": [
        "import numpy as np\n",
        "from yahoo_fin.stock_info import *\n",
        "import matplotlib.pyplot as plt\n",
        "from sklearn.decomposition import PCA\n",
        "from sklearn import preprocessing\n",
        "from scipy import stats\n",
        "import datetime as dt"
      ],
      "execution_count": 0,
      "outputs": []
    },
    {
      "cell_type": "code",
      "metadata": {
        "id": "l94wFr7sf3Jq",
        "colab_type": "code",
        "colab": {}
      },
      "source": [
        "def usr_input():\n",
        "  days_ago = dt.date.today() - dt.timedelta(days = 200)\n",
        "  Default_date = days_ago. strftime(\"%Y-%m-%d\")\n",
        "  Date = input('please enter date: ') or Default_date\n",
        "  return Date"
      ],
      "execution_count": 0,
      "outputs": []
    },
    {
      "cell_type": "code",
      "metadata": {
        "id": "30OQ4D5Gf6R5",
        "colab_type": "code",
        "colab": {
          "base_uri": "https://localhost:8080/",
          "height": 34
        },
        "outputId": "e9abc9e8-07bb-440b-81f3-50719f8adc7c"
      },
      "source": [
        "date = usr_input()\n",
        "\n",
        "tickers = tickers_dow()\n",
        "Data = []\n",
        "for ticker in tickers:\n",
        "  Data.append(get_data(ticker, start_date = date,index_as_date = True, interval = '1d')['adjclose'])\n",
        "Data = pd.concat(Data,axis=1)\n",
        "Ret = Data.pct_change().dropna()"
      ],
      "execution_count": 51,
      "outputs": [
        {
          "output_type": "stream",
          "text": [
            "please enter date: 2019-01-02\n"
          ],
          "name": "stdout"
        }
      ]
    },
    {
      "cell_type": "code",
      "metadata": {
        "colab_type": "code",
        "id": "TPIC3l2gsalF",
        "colab": {}
      },
      "source": [
        "today = dt.date.today()\n",
        "TodayDate = today.strftime(\"%Y-%m-%d\")"
      ],
      "execution_count": 0,
      "outputs": []
    },
    {
      "cell_type": "code",
      "metadata": {
        "id": "8sAVaOorf_79",
        "colab_type": "code",
        "colab": {}
      },
      "source": [
        "port_val = 1000000 #the portafolio value\n",
        "AMPSTvolpct = np.divide(np.ones((len(tickers),1)),len(tickers)) #equally distribute to different asset in that portafolio\n",
        "PortReturn = np.dot(Ret, AMPSTvolpct)"
      ],
      "execution_count": 0,
      "outputs": []
    },
    {
      "cell_type": "code",
      "metadata": {
        "id": "yEOQM5NFgCoK",
        "colab_type": "code",
        "colab": {
          "base_uri": "https://localhost:8080/",
          "height": 699
        },
        "outputId": "77e1f226-6f09-4825-d86e-823af9d36c7d"
      },
      "source": [
        "plt.figure(figsize=(20,10))\n",
        "counts,bins,dum = plt.hist(PortReturn)\n",
        "plt.suptitle('   QQ plot for '+ ticker,fontsize = 24)\n",
        "plt.title(date+' to '+ TodayDate,fontsize = 16)\n",
        "plt.minorticks_on()\n",
        "plt.xlabel('Return',fontsize = 15)\n",
        "plt.ylabel('Frequency',fontsize = 15)\n",
        "#plt.suptitle('   hist for '+Dow Jones,fontsize = 24)\n",
        "#plt.xlabel('Return',fontsize = 15)\n",
        "#plt.ylabel('Frequency',fontsize = 15)\n",
        "\n",
        "#plt.title(Start+' to '+End,fontsize = 16)"
      ],
      "execution_count": 61,
      "outputs": [
        {
          "output_type": "execute_result",
          "data": {
            "text/plain": [
              "Text(0, 0.5, 'Frequency')"
            ]
          },
          "metadata": {
            "tags": []
          },
          "execution_count": 61
        },
        {
          "output_type": "display_data",
          "data": {
            "image/png": "[encoded data removed]",
            "text/plain": [
              "<Figure size 1440x720 with 1 Axes>"
            ]
          },
          "metadata": {
            "tags": [],
            "needs_background": "light"
          }
        }
      ]
    },
    {
      "cell_type": "code",
      "metadata": {
        "id": "BptdcdwygCkW",
        "colab_type": "code",
        "colab": {
          "base_uri": "https://localhost:8080/",
          "height": 34
        },
        "outputId": "1ba6a08c-9513-419b-f098-72745279cdf4"
      },
      "source": [
        "historical_var = -np.percentile(PortReturn,1)*port_val\n",
        "print(historical_var)"
      ],
      "execution_count": 24,
      "outputs": [
        {
          "output_type": "stream",
          "text": [
            "68309.87241949243\n"
          ],
          "name": "stdout"
        }
      ]
    },
    {
      "cell_type": "code",
      "metadata": {
        "id": "-aXS8sTzgJOv",
        "colab_type": "code",
        "colab": {
          "base_uri": "https://localhost:8080/",
          "height": 34
        },
        "outputId": "6ce03aad-810e-48e0-f57b-71068e2d5b85"
      },
      "source": [
        "covMatrix = np.cov(Ret.T,bias=True)\n",
        "variance_pre = np.dot(AMPSTvolpct.T,covMatrix)\n",
        "variance = np.dot(variance_pre,AMPSTvolpct)\n",
        "\n",
        "VaR2 = np.sqrt(variance)*2.32*port_val\n",
        "print(VaR2)"
      ],
      "execution_count": 25,
      "outputs": [
        {
          "output_type": "stream",
          "text": [
            "[[46411.61082743]]\n"
          ],
          "name": "stdout"
        }
      ]
    },
    {
      "cell_type": "code",
      "metadata": {
        "id": "VEd5CzCTrtfw",
        "colab_type": "code",
        "colab": {
          "base_uri": "https://localhost:8080/",
          "height": 34
        },
        "outputId": "6e8d67a8-f0e0-4653-f3cf-0d22495fb3de"
      },
      "source": [
        "today = dt.date.today()\n",
        "d1 = today.strftime(\"%d/%m/%Y\")\n",
        "print(d1)"
      ],
      "execution_count": 47,
      "outputs": [
        {
          "output_type": "stream",
          "text": [
            "16/06/2020\n"
          ],
          "name": "stdout"
        }
      ]
    }
  ]
}